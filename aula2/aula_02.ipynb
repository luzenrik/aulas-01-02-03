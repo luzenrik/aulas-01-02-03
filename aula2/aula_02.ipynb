{
 "cells": [
  {
   "cell_type": "markdown",
   "metadata": {},
   "source": [
    "ESTRUTURA DE DADOS \n",
    "\n",
    "LISTAS"
   ]
  },
  {
   "cell_type": "code",
   "execution_count": 7,
   "metadata": {},
   "outputs": [
    {
     "data": {
      "text/plain": [
       "[2, 3, 4, 5, 6]"
      ]
     },
     "execution_count": 7,
     "metadata": {},
     "output_type": "execute_result"
    }
   ],
   "source": [
    "\"\"\"\n",
    "AS LISTAS SAO COLEÇOES ORDENADAS E MUTAVEIS DE ELEMENTOS. PODEM CONTER COMPLEMENTOS DE TIPOS DE DIFERENTES\n",
    "\"\"\"\n",
    "\n",
    "lista = [1,2,3,4,5]\n",
    "\n",
    "lista[0] = 10\n",
    "\n",
    "\"\"\"\n",
    "ADICIONAR UM ELEMNTO NA LISTA \n",
    "\"\"\"\n",
    "\n",
    "lista.append(6)\n",
    "\n",
    "\"\"\"\n",
    "REMOVER UM ITEM DA LISTA\n",
    "\"\"\"\n",
    "\n",
    "lista.remove(10)\n",
    "lista\n",
    "\n"
   ]
  },
  {
   "cell_type": "markdown",
   "metadata": {},
   "source": [
    "TUPLAS"
   ]
  },
  {
   "cell_type": "code",
   "execution_count": 8,
   "metadata": {},
   "outputs": [
    {
     "data": {
      "text/plain": [
       "(1, 2, 3, 4, 5)"
      ]
     },
     "execution_count": 8,
     "metadata": {},
     "output_type": "execute_result"
    }
   ],
   "source": [
    "\"\"\"\n",
    "AS TUPLAS SAO COMO LIESTAS, MAS NAO SAO IMUTAVEIS, OU SEJA, UMA VEZ CIRADA NÃO PODE ALTERADA.\n",
    "\"\"\"\n",
    "\n",
    "tuplas = (1,2,3,4,5)\n",
    "tuplas"
   ]
  },
  {
   "cell_type": "markdown",
   "metadata": {},
   "source": [
    "DICIONARIO "
   ]
  },
  {
   "cell_type": "code",
   "execution_count": 9,
   "metadata": {},
   "outputs": [],
   "source": [
    "\"\"\"\n",
    "UM DICIONARIO É UMA ESTRUTURA DE DADOS QUE ARMAZENA DADOS EM PARES ** CHAVE-VALOR**\n",
    "CADA CHAVE NO DICIONARIO DEVE SER UNICA.\n",
    "\"\"\"\n",
    "pessoa = {\n",
    "    'idade':'1920',\n",
    "    'cpf':'123.434.656-67',\n",
    "    'nome':'afonso henrique'\n",
    "\n",
    "}"
   ]
  },
  {
   "cell_type": "markdown",
   "metadata": {},
   "source": [
    "ESTRUTURA DE RETIPEÇÃO"
   ]
  },
  {
   "cell_type": "code",
   "execution_count": 15,
   "metadata": {},
   "outputs": [
    {
     "name": "stdout",
     "output_type": "stream",
     "text": [
      "sao paulo\n",
      "guarulhos\n",
      "osasco\n",
      "morro do careca\n",
      "0 {'sao paulo'}\n",
      "1 {'guarulhos'}\n",
      "2 {'osasco'}\n",
      "3 {'morro do careca'}\n"
     ]
    }
   ],
   "source": [
    "\"\"\"\n",
    "FOR\n",
    "\"\"\"\n",
    "\n",
    "cidade = ['sao paulo', 'guarulhos', 'osasco', 'morro do careca']\n",
    "\n",
    "for i in cidade:\n",
    "    print(i)\n",
    "\n",
    "for i, valor in enumerate (cidade):\n",
    "    print (f'{i}',{valor})"
   ]
  },
  {
   "cell_type": "code",
   "execution_count": 5,
   "metadata": {},
   "outputs": [
    {
     "name": "stdout",
     "output_type": "stream",
     "text": [
      "Muito alto\n",
      "Muito alto\n",
      "Muito alto\n",
      "Muito alto\n",
      "Muito alto\n",
      "Muito alto\n",
      "Acertou! {1}\n"
     ]
    }
   ],
   "source": [
    "\"\"\"WHILE\"\"\"\n",
    "import random\n",
    "\n",
    "numero_secreto = random.randint(1,10)\n",
    "tentativas = 0 \n",
    "\n",
    "while True:\n",
    "    tentativa = int(input('Digite seu palpite'))\n",
    "    tentativas =+ 1\n",
    "\n",
    "    if tentativa < numero_secreto:\n",
    "        print('Muito Baixo')\n",
    "        \n",
    "    elif tentativa > numero_secreto:\n",
    "        print ('Muito alto')\n",
    "        \n",
    "    else:\n",
    "        print(f'Acertou!',{tentativas}) \n",
    "        break\n",
    "        "
   ]
  },
  {
   "cell_type": "code",
   "execution_count": 7,
   "metadata": {},
   "outputs": [
    {
     "data": {
      "text/plain": [
       "'\\nFUNÇÕES SÃO BLOCOS DE CÓDIGO REUTILIZAVEIS UAM TEREFA ESPECIFICA.\\nELAS DEFINIDAS COM PALAVRAS-CHAVES def e pode ser chamadas em qualquer parte do programa.\\n\\ndef nome_da_funcao(parametro):\\n'"
      ]
     },
     "execution_count": 7,
     "metadata": {},
     "output_type": "execute_result"
    }
   ],
   "source": [
    "\"\"\"\n",
    "FUNÇÕES SÃO BLOCOS DE CÓDIGO REUTILIZAVEIS UAM TEREFA ESPECIFICA.\n",
    "ELAS DEFINIDAS COM PALAVRAS-CHAVES def e pode ser chamadas em qualquer parte do programa.\n",
    "\n",
    "def nome_da_funcao(parametro):\n",
    "    intrucoes\n",
    "    return valor\n",
    "\"\"\"\n",
    "\n",
    "def soma(a,b):\n",
    "    return a + b\n",
    "\n",
    "resultado = soma(5, 20)\n",
    "\n",
    "print(resultado)\n",
    "\n",
    "\"\"\" \n",
    "LAMBDA\n",
    "\"\"\"\n",
    "\n",
    "soma = lambda a,b: a + b"
   ]
  },
  {
   "cell_type": "markdown",
   "metadata": {},
   "source": [
    "FUNÇÕES"
   ]
  }
 ],
 "metadata": {
  "kernelspec": {
   "display_name": "Python 3",
   "language": "python",
   "name": "python3"
  },
  "language_info": {
   "codemirror_mode": {
    "name": "ipython",
    "version": 3
   },
   "file_extension": ".py",
   "mimetype": "text/x-python",
   "name": "python",
   "nbconvert_exporter": "python",
   "pygments_lexer": "ipython3",
   "version": "3.12.5"
  }
 },
 "nbformat": 4,
 "nbformat_minor": 2
}

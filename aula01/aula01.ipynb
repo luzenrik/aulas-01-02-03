{
 "cells": [
  {
   "cell_type": "code",
   "execution_count": 6,
   "metadata": {},
   "outputs": [
    {
     "name": "stdout",
     "output_type": "stream",
     "text": [
      "pedro luiz\n"
     ]
    }
   ],
   "source": [
    "nome = 'pedro luiz'\n",
    "\n",
    "print(nome)\n",
    "\n"
   ]
  },
  {
   "cell_type": "markdown",
   "metadata": {},
   "source": [
    "TIPOS DE DADOS BASICOS"
   ]
  },
  {
   "cell_type": "code",
   "execution_count": null,
   "metadata": {},
   "outputs": [],
   "source": [
    "#str 'NOME'\n",
    "#int numero = 1\n",
    "#boolean numero = 230.09034\n",
    "#float numero = 23.23\n",
    "#\" NUMERO = '24.24' \" <- texto\n"
   ]
  },
  {
   "cell_type": "markdown",
   "metadata": {},
   "source": [
    "OPERADOREs\n"
   ]
  },
  {
   "cell_type": "code",
   "execution_count": null,
   "metadata": {},
   "outputs": [],
   "source": [
    "#ADIÇÃO -- (+)\n",
    "#SUBTRAÇÃO -- (-)\n",
    "#MULTIPLICAÇÃO -- (*)\n",
    "#DIVISÃO -- (/)\n",
    "#MÓDULO (RESTO DA DIVISÃO) -- (%)"
   ]
  },
  {
   "cell_type": "code",
   "execution_count": null,
   "metadata": {},
   "outputs": [],
   "source": [
    "IGUAL (==)\n",
    "DIFERENTE (!=)\n",
    "MENOR (<)\n",
    "MAIOR(>)\n",
    "MAIOR OU IGUAL (>=)\n",
    "MENOR OU IGUAL (<=)\n"
   ]
  },
  {
   "cell_type": "markdown",
   "metadata": {},
   "source": [
    "OPERADORES LOGICOS"
   ]
  },
  {
   "cell_type": "code",
   "execution_count": 7,
   "metadata": {},
   "outputs": [
    {
     "ename": "NameError",
     "evalue": "name 'AND' is not defined",
     "output_type": "error",
     "traceback": [
      "\u001b[1;31m---------------------------------------------------------------------------\u001b[0m",
      "\u001b[1;31mNameError\u001b[0m                                 Traceback (most recent call last)",
      "Cell \u001b[1;32mIn[7], line 1\u001b[0m\n\u001b[1;32m----> 1\u001b[0m \u001b[43mAND\u001b[49m \u001b[38;5;241m==\u001b[39m e\n\u001b[0;32m      2\u001b[0m OR \u001b[38;5;241m==\u001b[39m ou\n",
      "\u001b[1;31mNameError\u001b[0m: name 'AND' is not defined"
     ]
    }
   ],
   "source": [
    "AND == e\n",
    "OR == ou\n",
    "NOT == NAO"
   ]
  },
  {
   "cell_type": "markdown",
   "metadata": {},
   "source": [
    "ESTRUTURA DE CONTROLE DE FLUXO\n"
   ]
  },
  {
   "cell_type": "code",
   "execution_count": null,
   "metadata": {},
   "outputs": [],
   "source": [
    "'''IF == VREFICAR CONDIÇÃO\n",
    "ELIF == VERIFCA \n",
    "ELSE == EXECUTA O COMANDO SE AS CONDIÇÕES FOREM FALSOS'''"
   ]
  },
  {
   "cell_type": "code",
   "execution_count": 8,
   "metadata": {},
   "outputs": [
    {
     "name": "stdout",
     "output_type": "stream",
     "text": [
      "18 anos\n"
     ]
    }
   ],
   "source": [
    "idade =  18\n",
    "\n",
    "if idade > 18:\n",
    "    print ('Maior de idade')\n",
    "elif idade == 18:\n",
    "    print ('18 anos')\n",
    "else:\n",
    "    print  ('Maior de 18')"
   ]
  },
  {
   "cell_type": "markdown",
   "metadata": {},
   "source": [
    "LAÇOS DE REPETIÇÕES\n"
   ]
  },
  {
   "cell_type": "code",
   "execution_count": null,
   "metadata": {},
   "outputs": [],
   "source": [
    "\"\"\"\"for -  Itera uma sequncia determinada\n",
    "\n",
    "while - Itera uma sequenca ate que seja falsa ou verdadeira\n",
    "\"\"\""
   ]
  },
  {
   "cell_type": "code",
   "execution_count": 16,
   "metadata": {},
   "outputs": [
    {
     "name": "stdout",
     "output_type": "stream",
     "text": [
      "Imprime numeros de 0 a 4, usando for\n",
      "1\n",
      "2\n",
      "3\n",
      "4\n",
      "5\n"
     ]
    }
   ],
   "source": [
    "\"\"\"FOR\"\"\"\n",
    "\n",
    "print('Imprime numeros de 0 a 4, usando for')\n",
    "for i in range(1,6):\n",
    "  print(i)"
   ]
  },
  {
   "cell_type": "code",
   "execution_count": 19,
   "metadata": {},
   "outputs": [
    {
     "name": "stdout",
     "output_type": "stream",
     "text": [
      "Imprime numeros de 0 a 4, usando for\n",
      "0\n",
      "1\n",
      "2\n",
      "3\n",
      "4\n"
     ]
    }
   ],
   "source": [
    "contador = 0\n",
    "print('Imprime numeros de 0 a 4, usando for')\n",
    "while contador <5:\n",
    "    print(contador)\n",
    "    contador +=1"
   ]
  },
  {
   "cell_type": "markdown",
   "metadata": {},
   "source": [
    "COMANDO DE CONTROLES DE LAÇOS"
   ]
  },
  {
   "cell_type": "code",
   "execution_count": 39,
   "metadata": {},
   "outputs": [
    {
     "ename": "SyntaxError",
     "evalue": "'break' outside loop (826626350.py, line 1)",
     "output_type": "error",
     "traceback": [
      "\u001b[1;36m  Cell \u001b[1;32mIn[39], line 1\u001b[1;36m\u001b[0m\n\u001b[1;33m    break\u001b[0m\n\u001b[1;37m    ^\u001b[0m\n\u001b[1;31mSyntaxError\u001b[0m\u001b[1;31m:\u001b[0m 'break' outside loop\n"
     ]
    }
   ],
   "source": [
    "break\n",
    "continue\n",
    "pass "
   ]
  },
  {
   "cell_type": "code",
   "execution_count": 23,
   "metadata": {},
   "outputs": [
    {
     "name": "stdout",
     "output_type": "stream",
     "text": [
      "18 anos\n"
     ]
    }
   ],
   "source": [
    "idade = int(input('insira a sua idade'))\n",
    "\n",
    "if idade > 18:\n",
    "    print ('Maior de idade')\n",
    "elif idade == 18:\n",
    "    print ('18 anos')\n",
    "else:\n",
    "    print  ('Menor de idade')"
   ]
  },
  {
   "cell_type": "code",
   "execution_count": 38,
   "metadata": {},
   "outputs": [
    {
     "ename": "NameError",
     "evalue": "name 'nota' is not defined",
     "output_type": "error",
     "traceback": [
      "\u001b[1;31m---------------------------------------------------------------------------\u001b[0m",
      "\u001b[1;31mNameError\u001b[0m                                 Traceback (most recent call last)",
      "Cell \u001b[1;32mIn[38], line 3\u001b[0m\n\u001b[0;32m      1\u001b[0m nome \u001b[38;5;241m=\u001b[39m \u001b[38;5;28mstr\u001b[39m(\u001b[38;5;28minput\u001b[39m(\u001b[38;5;124m'\u001b[39m\u001b[38;5;124minforme o seu nome\u001b[39m\u001b[38;5;124m'\u001b[39m))\n\u001b[1;32m----> 3\u001b[0m nota \u001b[38;5;241m=\u001b[39m \u001b[38;5;28mint\u001b[39m(\u001b[38;5;28minput\u001b[39m(\u001b[38;5;124m'\u001b[39m\u001b[38;5;124minforme sua nota \u001b[39m\u001b[38;5;124m'\u001b[39m \u001b[38;5;241m+\u001b[39m \u001b[43mnota\u001b[49m))\n\u001b[0;32m      4\u001b[0m \u001b[38;5;28;01mfor\u001b[39;00m i \u001b[38;5;129;01min\u001b[39;00m \u001b[38;5;28mrange\u001b[39m(\u001b[38;5;241m1\u001b[39m,\u001b[38;5;241m3\u001b[39m):\n\u001b[0;32m      5\u001b[0m   \u001b[38;5;28mprint\u001b[39m(i)\n",
      "\u001b[1;31mNameError\u001b[0m: name 'nota' is not defined"
     ]
    }
   ],
   "source": [
    "nome = str(input('informe o seu nome'))\n",
    "n1 = int(input('informe a sua nota 1'))\n",
    "n2 = int(input('informe a sua nota 2'))\n",
    "n3 = int(input('informe a sua nota 3'))\n",
    "\n",
    "media = (n1 + n2 + n3) /3\n",
    "\n",
    "print (f'{nome} sua nota final e de {media:.2f}')\n",
    "\n",
    "if media > 7:\n",
    "    print('boa passou')\n",
    "elif media == 7:\n",
    "    print('ta na media')\n",
    "else:\n",
    "    print('repetiu kdjKSAJDKSAJKDj')\n"
   ]
  },
  {
   "cell_type": "code",
   "execution_count": 58,
   "metadata": {},
   "outputs": [
    {
     "name": "stdout",
     "output_type": "stream",
     "text": [
      "nao e par\n"
     ]
    }
   ],
   "source": [
    "n = int(input('informe um numero'))\n",
    "\n",
    "\n",
    "\n",
    "if n%2 == 0:\n",
    "    print('par')\n",
    "else:\n",
    "    print('nao e par')"
   ]
  }
 ],
 "metadata": {
  "kernelspec": {
   "display_name": "Python 3",
   "language": "python",
   "name": "python3"
  },
  "language_info": {
   "codemirror_mode": {
    "name": "ipython",
    "version": 3
   },
   "file_extension": ".py",
   "mimetype": "text/x-python",
   "name": "python",
   "nbconvert_exporter": "python",
   "pygments_lexer": "ipython3",
   "version": "3.12.5"
  }
 },
 "nbformat": 4,
 "nbformat_minor": 2
}
